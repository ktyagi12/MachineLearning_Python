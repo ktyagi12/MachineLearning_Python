{
 "cells": [
  {
   "cell_type": "markdown",
   "metadata": {},
   "source": [
    "# Ensembles\n",
    "1. Bagging  \n",
    "2. Random Subspace \n",
    "3. Boosting\n",
    "4. Feature Importance from Random Forests"
   ]
  },
  {
   "cell_type": "code",
   "execution_count": 1,
   "metadata": {},
   "outputs": [
    {
     "data": {
      "text/html": [
       "<div>\n",
       "<style scoped>\n",
       "    .dataframe tbody tr th:only-of-type {\n",
       "        vertical-align: middle;\n",
       "    }\n",
       "\n",
       "    .dataframe tbody tr th {\n",
       "        vertical-align: top;\n",
       "    }\n",
       "\n",
       "    .dataframe thead th {\n",
       "        text-align: right;\n",
       "    }\n",
       "</style>\n",
       "<table border=\"1\" class=\"dataframe\">\n",
       "  <thead>\n",
       "    <tr style=\"text-align: right;\">\n",
       "      <th></th>\n",
       "      <th>aveHelpfulnessRatioUser</th>\n",
       "      <th>stdevHelpfulnessRatioUser</th>\n",
       "      <th>pcReviewsExceedMinHelpfulnessSupport</th>\n",
       "      <th>numReviewsUser</th>\n",
       "      <th>numReviewsHotel</th>\n",
       "      <th>ratingUser</th>\n",
       "      <th>numberSubRatingsUser</th>\n",
       "      <th>subRatingMeanUser</th>\n",
       "      <th>subRatingStdevUser</th>\n",
       "      <th>aveRatingUser</th>\n",
       "      <th>...</th>\n",
       "      <th>completeness_2</th>\n",
       "      <th>completeness_3</th>\n",
       "      <th>numberTermsEntry</th>\n",
       "      <th>percentageAlphaCharsEntry</th>\n",
       "      <th>fractionUpperCaseCharsEntry</th>\n",
       "      <th>fractionYouVsIEntry</th>\n",
       "      <th>numberTermsSummaryQuote</th>\n",
       "      <th>percentageAlphaCharsSummaryQuote</th>\n",
       "      <th>fractionUpperCaseCharsSummaryQuote</th>\n",
       "      <th>reviewHelpfulness</th>\n",
       "    </tr>\n",
       "  </thead>\n",
       "  <tbody>\n",
       "    <tr>\n",
       "      <td>0</td>\n",
       "      <td>1.000000</td>\n",
       "      <td>0.000000</td>\n",
       "      <td>0.666667</td>\n",
       "      <td>3</td>\n",
       "      <td>16</td>\n",
       "      <td>5</td>\n",
       "      <td>4</td>\n",
       "      <td>4.000000</td>\n",
       "      <td>0.000000</td>\n",
       "      <td>4.333333</td>\n",
       "      <td>...</td>\n",
       "      <td>0</td>\n",
       "      <td>1</td>\n",
       "      <td>182</td>\n",
       "      <td>0.788474</td>\n",
       "      <td>0.025703</td>\n",
       "      <td>0.500000</td>\n",
       "      <td>6</td>\n",
       "      <td>0.815789</td>\n",
       "      <td>0.096774</td>\n",
       "      <td>1</td>\n",
       "    </tr>\n",
       "    <tr>\n",
       "      <td>1</td>\n",
       "      <td>0.772487</td>\n",
       "      <td>0.377321</td>\n",
       "      <td>0.500000</td>\n",
       "      <td>12</td>\n",
       "      <td>233</td>\n",
       "      <td>5</td>\n",
       "      <td>0</td>\n",
       "      <td>0.000000</td>\n",
       "      <td>0.000000</td>\n",
       "      <td>4.333333</td>\n",
       "      <td>...</td>\n",
       "      <td>0</td>\n",
       "      <td>0</td>\n",
       "      <td>158</td>\n",
       "      <td>0.791888</td>\n",
       "      <td>0.012594</td>\n",
       "      <td>0.500000</td>\n",
       "      <td>1</td>\n",
       "      <td>1.000000</td>\n",
       "      <td>0.083333</td>\n",
       "      <td>1</td>\n",
       "    </tr>\n",
       "    <tr>\n",
       "      <td>2</td>\n",
       "      <td>0.715473</td>\n",
       "      <td>0.300437</td>\n",
       "      <td>0.833333</td>\n",
       "      <td>12</td>\n",
       "      <td>302</td>\n",
       "      <td>4</td>\n",
       "      <td>7</td>\n",
       "      <td>3.714286</td>\n",
       "      <td>0.755929</td>\n",
       "      <td>4.166667</td>\n",
       "      <td>...</td>\n",
       "      <td>0</td>\n",
       "      <td>3</td>\n",
       "      <td>59</td>\n",
       "      <td>0.799639</td>\n",
       "      <td>0.024831</td>\n",
       "      <td>0.333333</td>\n",
       "      <td>4</td>\n",
       "      <td>0.828571</td>\n",
       "      <td>0.034483</td>\n",
       "      <td>0</td>\n",
       "    </tr>\n",
       "    <tr>\n",
       "      <td>3</td>\n",
       "      <td>0.521250</td>\n",
       "      <td>0.481675</td>\n",
       "      <td>0.222222</td>\n",
       "      <td>36</td>\n",
       "      <td>6</td>\n",
       "      <td>1</td>\n",
       "      <td>4</td>\n",
       "      <td>1.000000</td>\n",
       "      <td>0.000000</td>\n",
       "      <td>3.527778</td>\n",
       "      <td>...</td>\n",
       "      <td>0</td>\n",
       "      <td>0</td>\n",
       "      <td>95</td>\n",
       "      <td>0.782212</td>\n",
       "      <td>0.029155</td>\n",
       "      <td>0.500000</td>\n",
       "      <td>2</td>\n",
       "      <td>0.800000</td>\n",
       "      <td>0.062500</td>\n",
       "      <td>0</td>\n",
       "    </tr>\n",
       "    <tr>\n",
       "      <td>4</td>\n",
       "      <td>0.603175</td>\n",
       "      <td>0.246926</td>\n",
       "      <td>1.000000</td>\n",
       "      <td>2</td>\n",
       "      <td>271</td>\n",
       "      <td>3</td>\n",
       "      <td>0</td>\n",
       "      <td>0.000000</td>\n",
       "      <td>0.000000</td>\n",
       "      <td>3.500000</td>\n",
       "      <td>...</td>\n",
       "      <td>0</td>\n",
       "      <td>0</td>\n",
       "      <td>43</td>\n",
       "      <td>0.805128</td>\n",
       "      <td>0.028662</td>\n",
       "      <td>0.000000</td>\n",
       "      <td>1</td>\n",
       "      <td>1.000000</td>\n",
       "      <td>0.142857</td>\n",
       "      <td>0</td>\n",
       "    </tr>\n",
       "  </tbody>\n",
       "</table>\n",
       "<p>5 rows × 24 columns</p>\n",
       "</div>"
      ],
      "text/plain": [
       "   aveHelpfulnessRatioUser  stdevHelpfulnessRatioUser  \\\n",
       "0                 1.000000                   0.000000   \n",
       "1                 0.772487                   0.377321   \n",
       "2                 0.715473                   0.300437   \n",
       "3                 0.521250                   0.481675   \n",
       "4                 0.603175                   0.246926   \n",
       "\n",
       "   pcReviewsExceedMinHelpfulnessSupport  numReviewsUser  numReviewsHotel  \\\n",
       "0                              0.666667               3               16   \n",
       "1                              0.500000              12              233   \n",
       "2                              0.833333              12              302   \n",
       "3                              0.222222              36                6   \n",
       "4                              1.000000               2              271   \n",
       "\n",
       "   ratingUser  numberSubRatingsUser  subRatingMeanUser  subRatingStdevUser  \\\n",
       "0           5                     4           4.000000            0.000000   \n",
       "1           5                     0           0.000000            0.000000   \n",
       "2           4                     7           3.714286            0.755929   \n",
       "3           1                     4           1.000000            0.000000   \n",
       "4           3                     0           0.000000            0.000000   \n",
       "\n",
       "   aveRatingUser  ...  completeness_2  completeness_3  numberTermsEntry  \\\n",
       "0       4.333333  ...               0               1               182   \n",
       "1       4.333333  ...               0               0               158   \n",
       "2       4.166667  ...               0               3                59   \n",
       "3       3.527778  ...               0               0                95   \n",
       "4       3.500000  ...               0               0                43   \n",
       "\n",
       "   percentageAlphaCharsEntry  fractionUpperCaseCharsEntry  \\\n",
       "0                   0.788474                     0.025703   \n",
       "1                   0.791888                     0.012594   \n",
       "2                   0.799639                     0.024831   \n",
       "3                   0.782212                     0.029155   \n",
       "4                   0.805128                     0.028662   \n",
       "\n",
       "   fractionYouVsIEntry  numberTermsSummaryQuote  \\\n",
       "0             0.500000                        6   \n",
       "1             0.500000                        1   \n",
       "2             0.333333                        4   \n",
       "3             0.500000                        2   \n",
       "4             0.000000                        1   \n",
       "\n",
       "   percentageAlphaCharsSummaryQuote  fractionUpperCaseCharsSummaryQuote  \\\n",
       "0                          0.815789                            0.096774   \n",
       "1                          1.000000                            0.083333   \n",
       "2                          0.828571                            0.034483   \n",
       "3                          0.800000                            0.062500   \n",
       "4                          1.000000                            0.142857   \n",
       "\n",
       "   reviewHelpfulness  \n",
       "0                  1  \n",
       "1                  1  \n",
       "2                  0  \n",
       "3                  0  \n",
       "4                  0  \n",
       "\n",
       "[5 rows x 24 columns]"
      ]
     },
     "execution_count": 1,
     "metadata": {},
     "output_type": "execute_result"
    }
   ],
   "source": [
    "import pandas as pd\n",
    "hotel_rev_pd = pd.read_csv('HotelRevHelpfulnessV2.csv')\n",
    "hotel_rev_pd.head()"
   ]
  },
  {
   "cell_type": "code",
   "execution_count": 2,
   "metadata": {},
   "outputs": [
    {
     "data": {
      "text/plain": [
       "(486, 23)"
      ]
     },
     "execution_count": 2,
     "metadata": {},
     "output_type": "execute_result"
    }
   ],
   "source": [
    "y = hotel_rev_pd.pop('reviewHelpfulness').values\n",
    "X = hotel_rev_pd.values\n",
    "X.shape"
   ]
  },
  {
   "cell_type": "code",
   "execution_count": 3,
   "metadata": {},
   "outputs": [],
   "source": [
    "from sklearn.neighbors import KNeighborsClassifier\n",
    "from sklearn.tree import DecisionTreeClassifier\n",
    "from sklearn.model_selection import cross_val_score\n",
    "from sklearn.ensemble import BaggingClassifier\n",
    "\n",
    "kNN = KNeighborsClassifier(n_neighbors=3) \n",
    "dtree = DecisionTreeClassifier(criterion='entropy')"
   ]
  },
  {
   "cell_type": "markdown",
   "metadata": {},
   "source": [
    "## Bagging\n",
    "Ensembles based on Bagging. \n",
    "- 10 ensemble members are trained using bootstrap resampling\n",
    "- Works for decision trees\n",
    "- Doesn't work for k-NN"
   ]
  },
  {
   "cell_type": "code",
   "execution_count": 4,
   "metadata": {},
   "outputs": [],
   "source": [
    "kNN_bag = BaggingClassifier(kNN, \n",
    "                            n_estimators = 10,\n",
    "                            max_samples = 1.0, \n",
    "                            bootstrap = True)\n",
    "\n",
    "tree_bag = BaggingClassifier(dtree, \n",
    "                            n_estimators = 10,\n",
    "                            max_samples = 1.0, # bootstrap resampling \n",
    "                            bootstrap = True)"
   ]
  },
  {
   "cell_type": "code",
   "execution_count": 5,
   "metadata": {},
   "outputs": [
    {
     "name": "stdout",
     "output_type": "stream",
     "text": [
      "Mean for kNN 0.64\n",
      "Mean for kNN_bag 0.62\n",
      "Mean for D-Tree 0.68\n",
      "Mean for D_Tree_bag 0.70\n"
     ]
    }
   ],
   "source": [
    "folds = 4\n",
    "v = 0\n",
    "scores_kNN = cross_val_score(kNN, X, y, cv=folds, verbose = v, n_jobs = -1)\n",
    "scores_kNN_bag = cross_val_score(kNN_bag, X, y, cv=folds, verbose = v, n_jobs = -1)\n",
    "\n",
    "print(\"Mean for kNN {:.2f}\".format(scores_kNN.mean()))\n",
    "print(\"Mean for kNN_bag {:.2f}\".format(scores_kNN_bag.mean()))\n",
    "\n",
    "scores_tree = cross_val_score(dtree, X, y, cv=folds, verbose = v, n_jobs = -1)\n",
    "scores_tree_bag = cross_val_score(tree_bag, X, y, cv=folds, verbose = v, n_jobs = -1)\n",
    "\n",
    "print(\"Mean for D-Tree {:.2f}\".format(scores_tree.mean()))\n",
    "print(\"Mean for D_Tree_bag {:.2f}\".format(scores_tree_bag.mean()))"
   ]
  },
  {
   "cell_type": "markdown",
   "metadata": {},
   "source": [
    "---\n",
    "## Random Subspace\n",
    "The evaluation above shows that bootstrap resampling works for decision tree ensembles but not for k-NN.   \n",
    "This is because k-NN is a *stable* classifier so boodstrap resampling does not produce diversity.  \n",
    "  \n",
    "However a random subspace strategy will produce diversity for k-NN.  \n",
    "In the examples below we generate an ensemble of 10 classifiers each trained using a subet of 50% of the features selected at random.\n"
   ]
  },
  {
   "cell_type": "code",
   "execution_count": 6,
   "metadata": {},
   "outputs": [],
   "source": [
    "random_SS_kNN = BaggingClassifier(kNN, \n",
    "                            n_estimators = 10,\n",
    "                            max_samples=1.0, \n",
    "                            max_features=0.5)\n",
    "\n",
    "random_SS_tree = BaggingClassifier(dtree, \n",
    "                            n_estimators = 10,\n",
    "                            max_samples=1.0, \n",
    "                            max_features=0.5)"
   ]
  },
  {
   "cell_type": "code",
   "execution_count": 7,
   "metadata": {},
   "outputs": [
    {
     "name": "stdout",
     "output_type": "stream",
     "text": [
      "Mean for kNN 0.64\n",
      "Mean for kNN_rand_SS 0.65\n",
      "Mean for D-Tree 0.65\n",
      "Mean for D_Tree_rand_SS 0.69\n"
     ]
    }
   ],
   "source": [
    "scores_kNN = cross_val_score(kNN, X, y, cv=folds, verbose = v, n_jobs = -1)\n",
    "scores_kNN_rSS = cross_val_score(random_SS_kNN, X, y, cv=folds, verbose = v, n_jobs = -1)\n",
    "\n",
    "print(\"Mean for kNN {:.2f}\".format(scores_kNN.mean()))\n",
    "print(\"Mean for kNN_rand_SS {:.2f}\".format(scores_kNN_rSS.mean()))\n",
    "\n",
    "scores_tree = cross_val_score(dtree, X, y, cv=folds, verbose = v, n_jobs = -1)\n",
    "scores_tree_rSS = cross_val_score(random_SS_tree, X, y, cv=folds, verbose = v, n_jobs = -1)\n",
    "\n",
    "print(\"Mean for D-Tree {:.2f}\".format(scores_tree.mean()))\n",
    "print(\"Mean for D_Tree_rand_SS {:.2f}\".format(scores_tree_rSS.mean()))"
   ]
  },
  {
   "cell_type": "markdown",
   "metadata": {},
   "source": [
    "---\n",
    "## Boosting\n",
    "Default classifier is a Decision Tree of depth 1, a decision stump."
   ]
  },
  {
   "cell_type": "code",
   "execution_count": 8,
   "metadata": {},
   "outputs": [
    {
     "data": {
      "text/plain": [
       "0.7284920742446823"
      ]
     },
     "execution_count": 8,
     "metadata": {},
     "output_type": "execute_result"
    }
   ],
   "source": [
    "from sklearn.ensemble import AdaBoostClassifier\n",
    "\n",
    "adaBoost = AdaBoostClassifier(n_estimators=100, algorithm = 'SAMME')\n",
    "scores_adaBoost = cross_val_score(adaBoost, X, y, cv=folds, verbose = v, n_jobs = -1)\n",
    "\n",
    "scores_adaBoost.mean()  "
   ]
  },
  {
   "cell_type": "code",
   "execution_count": 9,
   "metadata": {},
   "outputs": [
    {
     "data": {
      "text/plain": [
       "array([0.85514873, 0.43004882, 0.48229211, 0.4657541 , 0.12063232,\n",
       "       0.35198136, 0.23122383, 0.13955368, 0.13043829, 0.12244209])"
      ]
     },
     "execution_count": 9,
     "metadata": {},
     "output_type": "execute_result"
    }
   ],
   "source": [
    "# Train Adaboost on all data and check weights for first 10 models\n",
    "ab = adaBoost.fit(X,y)\n",
    "ab.estimator_weights_[:10]"
   ]
  },
  {
   "cell_type": "markdown",
   "metadata": {},
   "source": [
    "---\n",
    "<h1><span style=\"color:red\">Extra</span></h1>\n",
    "\n",
    "## Random Forest Feature Importance\n",
    "As a side effect of building so many decision trees Random Forest is able to provide an estimate of feature importance. "
   ]
  },
  {
   "cell_type": "code",
   "execution_count": 10,
   "metadata": {},
   "outputs": [
    {
     "data": {
      "text/plain": [
       "RandomForestClassifier(bootstrap=True, class_weight=None, criterion='gini',\n",
       "                       max_depth=2, max_features='auto', max_leaf_nodes=None,\n",
       "                       min_impurity_decrease=0.0, min_impurity_split=None,\n",
       "                       min_samples_leaf=1, min_samples_split=2,\n",
       "                       min_weight_fraction_leaf=0.0, n_estimators=100,\n",
       "                       n_jobs=None, oob_score=False, random_state=0, verbose=0,\n",
       "                       warm_start=False)"
      ]
     },
     "execution_count": 10,
     "metadata": {},
     "output_type": "execute_result"
    }
   ],
   "source": [
    "from sklearn.ensemble import RandomForestClassifier\n",
    "RF = RandomForestClassifier(n_estimators=100, max_depth=2, random_state=0)\n",
    "RF.fit(X,y)"
   ]
  },
  {
   "cell_type": "code",
   "execution_count": 11,
   "metadata": {},
   "outputs": [
    {
     "data": {
      "text/plain": [
       "array([0.13977995, 0.07287126, 0.1386167 , 0.14194925, 0.09146311,\n",
       "       0.02520643, 0.00569735, 0.09172209, 0.01547085, 0.0297604 ,\n",
       "       0.09322251, 0.01832222, 0.00742457, 0.00367284, 0.00173408,\n",
       "       0.01795823, 0.03945371, 0.02390862, 0.00893415, 0.00999277,\n",
       "       0.00418041, 0.00671372, 0.0119448 ])"
      ]
     },
     "execution_count": 11,
     "metadata": {},
     "output_type": "execute_result"
    }
   ],
   "source": [
    "RF.feature_importances_"
   ]
  },
  {
   "cell_type": "code",
   "execution_count": 12,
   "metadata": {},
   "outputs": [
    {
     "data": {
      "text/html": [
       "<div>\n",
       "<style scoped>\n",
       "    .dataframe tbody tr th:only-of-type {\n",
       "        vertical-align: middle;\n",
       "    }\n",
       "\n",
       "    .dataframe tbody tr th {\n",
       "        vertical-align: top;\n",
       "    }\n",
       "\n",
       "    .dataframe thead th {\n",
       "        text-align: right;\n",
       "    }\n",
       "</style>\n",
       "<table border=\"1\" class=\"dataframe\">\n",
       "  <thead>\n",
       "    <tr style=\"text-align: right;\">\n",
       "      <th></th>\n",
       "      <th>FI Score</th>\n",
       "    </tr>\n",
       "  </thead>\n",
       "  <tbody>\n",
       "    <tr>\n",
       "      <td>numReviewsUser</td>\n",
       "      <td>0.141949</td>\n",
       "    </tr>\n",
       "    <tr>\n",
       "      <td>aveHelpfulnessRatioUser</td>\n",
       "      <td>0.139780</td>\n",
       "    </tr>\n",
       "    <tr>\n",
       "      <td>pcReviewsExceedMinHelpfulnessSupport</td>\n",
       "      <td>0.138617</td>\n",
       "    </tr>\n",
       "    <tr>\n",
       "      <td>stdevRatingUser</td>\n",
       "      <td>0.093223</td>\n",
       "    </tr>\n",
       "    <tr>\n",
       "      <td>subRatingMeanUser</td>\n",
       "      <td>0.091722</td>\n",
       "    </tr>\n",
       "    <tr>\n",
       "      <td>numReviewsHotel</td>\n",
       "      <td>0.091463</td>\n",
       "    </tr>\n",
       "    <tr>\n",
       "      <td>stdevHelpfulnessRatioUser</td>\n",
       "      <td>0.072871</td>\n",
       "    </tr>\n",
       "    <tr>\n",
       "      <td>numberTermsEntry</td>\n",
       "      <td>0.039454</td>\n",
       "    </tr>\n",
       "    <tr>\n",
       "      <td>aveRatingUser</td>\n",
       "      <td>0.029760</td>\n",
       "    </tr>\n",
       "    <tr>\n",
       "      <td>ratingUser</td>\n",
       "      <td>0.025206</td>\n",
       "    </tr>\n",
       "    <tr>\n",
       "      <td>percentageAlphaCharsEntry</td>\n",
       "      <td>0.023909</td>\n",
       "    </tr>\n",
       "    <tr>\n",
       "      <td>aveRatingHotel</td>\n",
       "      <td>0.018322</td>\n",
       "    </tr>\n",
       "    <tr>\n",
       "      <td>completeness_3</td>\n",
       "      <td>0.017958</td>\n",
       "    </tr>\n",
       "    <tr>\n",
       "      <td>subRatingStdevUser</td>\n",
       "      <td>0.015471</td>\n",
       "    </tr>\n",
       "    <tr>\n",
       "      <td>fractionUpperCaseCharsSummaryQuote</td>\n",
       "      <td>0.011945</td>\n",
       "    </tr>\n",
       "    <tr>\n",
       "      <td>fractionYouVsIEntry</td>\n",
       "      <td>0.009993</td>\n",
       "    </tr>\n",
       "    <tr>\n",
       "      <td>fractionUpperCaseCharsEntry</td>\n",
       "      <td>0.008934</td>\n",
       "    </tr>\n",
       "    <tr>\n",
       "      <td>stdevRatingHotel</td>\n",
       "      <td>0.007425</td>\n",
       "    </tr>\n",
       "    <tr>\n",
       "      <td>percentageAlphaCharsSummaryQuote</td>\n",
       "      <td>0.006714</td>\n",
       "    </tr>\n",
       "    <tr>\n",
       "      <td>numberSubRatingsUser</td>\n",
       "      <td>0.005697</td>\n",
       "    </tr>\n",
       "    <tr>\n",
       "      <td>numberTermsSummaryQuote</td>\n",
       "      <td>0.004180</td>\n",
       "    </tr>\n",
       "    <tr>\n",
       "      <td>completeness_1</td>\n",
       "      <td>0.003673</td>\n",
       "    </tr>\n",
       "    <tr>\n",
       "      <td>completeness_2</td>\n",
       "      <td>0.001734</td>\n",
       "    </tr>\n",
       "  </tbody>\n",
       "</table>\n",
       "</div>"
      ],
      "text/plain": [
       "                                      FI Score\n",
       "numReviewsUser                        0.141949\n",
       "aveHelpfulnessRatioUser               0.139780\n",
       "pcReviewsExceedMinHelpfulnessSupport  0.138617\n",
       "stdevRatingUser                       0.093223\n",
       "subRatingMeanUser                     0.091722\n",
       "numReviewsHotel                       0.091463\n",
       "stdevHelpfulnessRatioUser             0.072871\n",
       "numberTermsEntry                      0.039454\n",
       "aveRatingUser                         0.029760\n",
       "ratingUser                            0.025206\n",
       "percentageAlphaCharsEntry             0.023909\n",
       "aveRatingHotel                        0.018322\n",
       "completeness_3                        0.017958\n",
       "subRatingStdevUser                    0.015471\n",
       "fractionUpperCaseCharsSummaryQuote    0.011945\n",
       "fractionYouVsIEntry                   0.009993\n",
       "fractionUpperCaseCharsEntry           0.008934\n",
       "stdevRatingHotel                      0.007425\n",
       "percentageAlphaCharsSummaryQuote      0.006714\n",
       "numberSubRatingsUser                  0.005697\n",
       "numberTermsSummaryQuote               0.004180\n",
       "completeness_1                        0.003673\n",
       "completeness_2                        0.001734"
      ]
     },
     "execution_count": 12,
     "metadata": {},
     "output_type": "execute_result"
    }
   ],
   "source": [
    "FI_df = pd.DataFrame(RF.feature_importances_, index=hotel_rev_pd.columns,columns =['FI Score'])\n",
    "FI_df.sort_values('FI Score', inplace=True, ascending = False)\n",
    "FI_df"
   ]
  },
  {
   "cell_type": "code",
   "execution_count": 13,
   "metadata": {},
   "outputs": [
    {
     "data": {
      "text/plain": [
       "Text(0, 0.5, 'Feature Importance')"
      ]
     },
     "execution_count": 13,
     "metadata": {},
     "output_type": "execute_result"
    },
    {
     "data": {
      "image/png": "[encoded data removed]",
      "text/plain": [
       "<Figure size 720x360 with 1 Axes>"
      ]
     },
     "metadata": {
      "needs_background": "light"
     },
     "output_type": "display_data"
    }
   ],
   "source": [
    "%matplotlib inline\n",
    "pl = FI_df.plot.bar(figsize=(10,5))\n",
    "pl.set_ylabel(\"Feature Importance\")"
   ]
  },
  {
   "cell_type": "code",
   "execution_count": null,
   "metadata": {},
   "outputs": [],
   "source": []
  }
 ],
 "metadata": {
  "kernelspec": {
   "display_name": "Python 3",
   "language": "python",
   "name": "python3"
  },
  "language_info": {
   "codemirror_mode": {
    "name": "ipython",
    "version": 3
   },
   "file_extension": ".py",
   "mimetype": "text/x-python",
   "name": "python",
   "nbconvert_exporter": "python",
   "pygments_lexer": "ipython3",
   "version": "3.7.3"
  }
 },
 "nbformat": 4,
 "nbformat_minor": 2
}
