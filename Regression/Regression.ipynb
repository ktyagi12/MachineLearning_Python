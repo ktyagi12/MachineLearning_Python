{
 "cells": [
  {
   "cell_type": "markdown",
   "metadata": {},
   "source": [
    "# Linear Regression"
   ]
  },
  {
   "cell_type": "code",
   "execution_count": 1,
   "metadata": {},
   "outputs": [
    {
     "data": {
      "text/html": [
       "<div>\n",
       "<style scoped>\n",
       "    .dataframe tbody tr th:only-of-type {\n",
       "        vertical-align: middle;\n",
       "    }\n",
       "\n",
       "    .dataframe tbody tr th {\n",
       "        vertical-align: top;\n",
       "    }\n",
       "\n",
       "    .dataframe thead th {\n",
       "        text-align: right;\n",
       "    }\n",
       "</style>\n",
       "<table border=\"1\" class=\"dataframe\">\n",
       "  <thead>\n",
       "    <tr style=\"text-align: right;\">\n",
       "      <th></th>\n",
       "      <th>Weight</th>\n",
       "      <th>Waist</th>\n",
       "    </tr>\n",
       "  </thead>\n",
       "  <tbody>\n",
       "    <tr>\n",
       "      <td>0</td>\n",
       "      <td>154.25</td>\n",
       "      <td>85.2</td>\n",
       "    </tr>\n",
       "    <tr>\n",
       "      <td>1</td>\n",
       "      <td>173.25</td>\n",
       "      <td>83.0</td>\n",
       "    </tr>\n",
       "    <tr>\n",
       "      <td>2</td>\n",
       "      <td>154.00</td>\n",
       "      <td>87.9</td>\n",
       "    </tr>\n",
       "    <tr>\n",
       "      <td>3</td>\n",
       "      <td>184.75</td>\n",
       "      <td>86.4</td>\n",
       "    </tr>\n",
       "    <tr>\n",
       "      <td>4</td>\n",
       "      <td>184.25</td>\n",
       "      <td>100.0</td>\n",
       "    </tr>\n",
       "  </tbody>\n",
       "</table>\n",
       "</div>"
      ],
      "text/plain": [
       "   Weight  Waist\n",
       "0  154.25   85.2\n",
       "1  173.25   83.0\n",
       "2  154.00   87.9\n",
       "3  184.75   86.4\n",
       "4  184.25  100.0"
      ]
     },
     "execution_count": 1,
     "metadata": {},
     "output_type": "execute_result"
    }
   ],
   "source": [
    "import pandas as pd\n",
    "weight_pd = pd.read_csv('weightV2.csv')\n",
    "weight_pd.head()"
   ]
  },
  {
   "cell_type": "code",
   "execution_count": 2,
   "metadata": {},
   "outputs": [
    {
     "data": {
      "text/plain": [
       "(251, 1)"
      ]
     },
     "execution_count": 2,
     "metadata": {},
     "output_type": "execute_result"
    }
   ],
   "source": [
    "y = weight_pd.pop('Weight').values\n",
    "X = weight_pd.values\n",
    "X.shape"
   ]
  },
  {
   "cell_type": "code",
   "execution_count": 3,
   "metadata": {},
   "outputs": [
    {
     "name": "stdout",
     "output_type": "stream",
     "text": [
      " R squared statistic: 0.76\n",
      " Slope: 2.31\n",
      " Intercept: -35.45\n"
     ]
    }
   ],
   "source": [
    "from sklearn.linear_model import LinearRegression\n",
    "reg = LinearRegression().fit(X, y)\n",
    "print(' R squared statistic: {:.2f}'.format(reg.score(X, y)))\n",
    "print(' Slope: {:.2f}'.format(reg.coef_[0]))\n",
    "print(' Intercept: {:.2f}'.format(reg.intercept_))"
   ]
  },
  {
   "cell_type": "code",
   "execution_count": 4,
   "metadata": {},
   "outputs": [
    {
     "data": {
      "image/png": "[encoded data removed]",
      "text/plain": [
       "<Figure size 432x288 with 1 Axes>"
      ]
     },
     "metadata": {
      "needs_background": "light"
     },
     "output_type": "display_data"
    }
   ],
   "source": [
    "import matplotlib.pyplot as plt\n",
    "%matplotlib inline\n",
    "Y_pred = reg.predict(X)\n",
    "\n",
    "plt.scatter(X, y, s = 10)\n",
    "plt.plot(X, Y_pred, color='red')\n",
    "plt.xlabel('Waist')\n",
    "plt.ylabel('Weight')\n",
    "plt.title ('Weight v Waist with Regression Line' )\n",
    "plt.show()"
   ]
  },
  {
   "cell_type": "markdown",
   "metadata": {},
   "source": [
    "## Logistic Regression"
   ]
  },
  {
   "cell_type": "code",
   "execution_count": 5,
   "metadata": {
    "scrolled": true
   },
   "outputs": [
    {
     "data": {
      "text/html": [
       "<div>\n",
       "<style scoped>\n",
       "    .dataframe tbody tr th:only-of-type {\n",
       "        vertical-align: middle;\n",
       "    }\n",
       "\n",
       "    .dataframe tbody tr th {\n",
       "        vertical-align: top;\n",
       "    }\n",
       "\n",
       "    .dataframe thead th {\n",
       "        text-align: right;\n",
       "    }\n",
       "</style>\n",
       "<table border=\"1\" class=\"dataframe\">\n",
       "  <thead>\n",
       "    <tr style=\"text-align: right;\">\n",
       "      <th></th>\n",
       "      <th>Athlete</th>\n",
       "      <th>Speed</th>\n",
       "      <th>Agility</th>\n",
       "      <th>Selected</th>\n",
       "    </tr>\n",
       "  </thead>\n",
       "  <tbody>\n",
       "    <tr>\n",
       "      <td>16</td>\n",
       "      <td>x17</td>\n",
       "      <td>5.25</td>\n",
       "      <td>9.50</td>\n",
       "      <td>1</td>\n",
       "    </tr>\n",
       "    <tr>\n",
       "      <td>13</td>\n",
       "      <td>x14</td>\n",
       "      <td>5.75</td>\n",
       "      <td>8.75</td>\n",
       "      <td>1</td>\n",
       "    </tr>\n",
       "    <tr>\n",
       "      <td>12</td>\n",
       "      <td>x13</td>\n",
       "      <td>8.25</td>\n",
       "      <td>8.50</td>\n",
       "      <td>1</td>\n",
       "    </tr>\n",
       "    <tr>\n",
       "      <td>3</td>\n",
       "      <td>x4</td>\n",
       "      <td>3.25</td>\n",
       "      <td>8.25</td>\n",
       "      <td>0</td>\n",
       "    </tr>\n",
       "    <tr>\n",
       "      <td>18</td>\n",
       "      <td>x19</td>\n",
       "      <td>7.50</td>\n",
       "      <td>8.00</td>\n",
       "      <td>1</td>\n",
       "    </tr>\n",
       "  </tbody>\n",
       "</table>\n",
       "</div>"
      ],
      "text/plain": [
       "   Athlete  Speed  Agility  Selected\n",
       "16     x17   5.25     9.50         1\n",
       "13     x14   5.75     8.75         1\n",
       "12     x13   8.25     8.50         1\n",
       "3       x4   3.25     8.25         0\n",
       "18     x19   7.50     8.00         1"
      ]
     },
     "execution_count": 5,
     "metadata": {},
     "output_type": "execute_result"
    }
   ],
   "source": [
    "athlete_pd = pd.read_csv('AthleteSelection.csv')\n",
    "athlete_pd.sort_values('Agility',inplace = True, ascending = False)\n",
    "athlete_pd.head(5)"
   ]
  },
  {
   "cell_type": "code",
   "execution_count": 6,
   "metadata": {},
   "outputs": [
    {
     "data": {
      "text/plain": [
       "(20, 2)"
      ]
     },
     "execution_count": 6,
     "metadata": {},
     "output_type": "execute_result"
    }
   ],
   "source": [
    "y = athlete_pd.pop('Selected').values\n",
    "athlete_pd.pop('Athlete')\n",
    "X = athlete_pd.values\n",
    "X.shape"
   ]
  },
  {
   "cell_type": "code",
   "execution_count": 7,
   "metadata": {},
   "outputs": [
    {
     "name": "stdout",
     "output_type": "stream",
     "text": [
      " R squared statistic: 0.95\n",
      " Speed: 1.61 Agility: 0.53\n",
      " Intercept: -11.24\n"
     ]
    }
   ],
   "source": [
    "from sklearn.linear_model import LogisticRegression\n",
    "lreg = LogisticRegression(solver='lbfgs').fit(X, y)\n",
    "print(' R squared statistic: {:.2f}'.format(lreg.score(X, y)))\n",
    "print(' Speed: {:.2f} Agility: {:.2f}'.format(lreg.coef_[0][0],\n",
    "                                              lreg.coef_[0][1]))\n",
    "print(' Intercept: {:.2f}'.format(lreg.intercept_[0]))"
   ]
  },
  {
   "cell_type": "code",
   "execution_count": 8,
   "metadata": {},
   "outputs": [
    {
     "name": "stdout",
     "output_type": "stream",
     "text": [
      " R squared statistic: 0.95\n",
      " Speed: 1.84 Agility: 0.72\n",
      " Intercept: -0.59\n"
     ]
    }
   ],
   "source": [
    "from sklearn.preprocessing import StandardScaler\n",
    "X_scal = StandardScaler().fit_transform(X)\n",
    "lreg = LogisticRegression(solver='lbfgs').fit(X_scal, y)\n",
    "print(' R squared statistic: {:.2f}'.format(lreg.score(X_scal, y)))\n",
    "print(' Speed: {:.2f} Agility: {:.2f}'.format(lreg.coef_[0][0],lreg.coef_[0][1]))\n",
    "print(' Intercept: {:.2f}'.format(lreg.intercept_[0]))\n"
   ]
  },
  {
   "cell_type": "code",
   "execution_count": 9,
   "metadata": {},
   "outputs": [
    {
     "data": {
      "text/plain": [
       "array([[ 0.36286528,  1.6692244 ],\n",
       "       [ 0.64199242,  1.3274037 ],\n",
       "       [ 2.03762811,  1.21346347],\n",
       "       [-0.75364327,  1.09952324],\n",
       "       [ 1.6189374 ,  0.98558301],\n",
       "       [-0.47451614,  0.98558301],\n",
       "       [-1.03277041,  0.75770254],\n",
       "       [ 0.50242885,  0.41588185],\n",
       "       [ 0.08373814,  0.18800138],\n",
       "       [-1.17233398,  0.07406115],\n",
       "       [-1.31189755, -0.15381931],\n",
       "       [-0.6140797 , -0.26775954],\n",
       "       [-0.05582543, -0.38169978],\n",
       "       [ 1.33981027, -0.72352047],\n",
       "       [-0.33495257, -0.8374607 ],\n",
       "       [ 1.47937383, -0.95140094],\n",
       "       [-0.195389  , -0.95140094],\n",
       "       [-0.89320684, -1.1792814 ],\n",
       "       [ 0.22330171, -1.52110209],\n",
       "       [-1.45146112, -1.74898256]])"
      ]
     },
     "execution_count": 9,
     "metadata": {},
     "output_type": "execute_result"
    }
   ],
   "source": [
    "X_scal"
   ]
  },
  {
   "cell_type": "code",
   "execution_count": null,
   "metadata": {},
   "outputs": [],
   "source": []
  }
 ],
 "metadata": {
  "kernelspec": {
   "display_name": "Python 3",
   "language": "python",
   "name": "python3"
  },
  "language_info": {
   "codemirror_mode": {
    "name": "ipython",
    "version": 3
   },
   "file_extension": ".py",
   "mimetype": "text/x-python",
   "name": "python",
   "nbconvert_exporter": "python",
   "pygments_lexer": "ipython3",
   "version": "3.7.3"
  }
 },
 "nbformat": 4,
 "nbformat_minor": 2
}
