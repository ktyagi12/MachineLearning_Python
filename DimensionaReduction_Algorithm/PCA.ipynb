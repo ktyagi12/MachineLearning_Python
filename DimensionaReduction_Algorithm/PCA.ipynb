{
 "cells": [
  {
   "cell_type": "markdown",
   "metadata": {},
   "source": [
    "# Principal Component Analysis\n",
    "\n",
    "## Variance explained by PCs\n",
    "The first PC captures ~73% of the variance in the data.  \n",
    "The second PC captures ~23% of the variance.  \n",
    "The first two PCs capture > 95% of the variance in the data. "
   ]
  },
  {
   "cell_type": "code",
   "execution_count": 1,
   "metadata": {},
   "outputs": [
    {
     "data": {
      "text/plain": [
       "array([0.72962445, 0.22850762, 0.03668922, 0.00517871])"
      ]
     },
     "execution_count": 1,
     "metadata": {},
     "output_type": "execute_result"
    }
   ],
   "source": [
    "import matplotlib.pyplot as plt\n",
    "%matplotlib inline\n",
    "\n",
    "import numpy as np\n",
    "import pandas as pd\n",
    "from sklearn import datasets\n",
    "from sklearn.decomposition import PCA\n",
    "from sklearn.preprocessing import StandardScaler\n",
    "\n",
    "iris = datasets.load_iris()\n",
    "\n",
    "X = iris.data\n",
    "target_names = iris.target_names\n",
    "y = iris.target\n",
    "\n",
    "# Scale input features to N(0,1)\n",
    "X_scal = StandardScaler().fit_transform(X)\n",
    "\n",
    "pca = PCA(n_components=4)\n",
    "X_r = pca.fit(X_scal).transform(X)\n",
    "\n",
    "# Proportion of variance explained for each components\n",
    "pca.explained_variance_ratio_"
   ]
  },
  {
   "cell_type": "code",
   "execution_count": null,
   "metadata": {},
   "outputs": [],
   "source": [
    "df = pd.DataFrame(pca.explained_variance_ratio_, \n",
    "                  index=['PC1','PC2','PC3','PC4'],columns =['var'])\n",
    "\n",
    "pl = df.plot.bar(figsize=(5,4))\n",
    "pl.set_ylabel(\"Variance Explained\")\n",
    "pl.set_ylim([0,0.8])"
   ]
  },
  {
   "cell_type": "markdown",
   "metadata": {},
   "source": [
    "## Plotting transformed data\n",
    "Plot the iris data using the first two PCs.  \n",
    "i.e. we are showing the iris data transformed into a 2D space where >95% of the variance in the data is preserved. "
   ]
  },
  {
   "cell_type": "code",
   "execution_count": null,
   "metadata": {},
   "outputs": [],
   "source": [
    "plt.figure()\n",
    "colors = ['navy', 'turquoise', 'darkorange']\n",
    "lw = 2\n",
    "\n",
    "for color, i, target_name in zip(colors, [0, 1, 2], target_names):\n",
    "    plt.scatter(X_r[y == i, 0], X_r[y == i, 1], color=color, alpha=.8, lw=lw,\n",
    "                label=target_name)\n",
    "plt.legend(loc='best', shadow=False, scatterpoints=1)\n",
    "plt.xlabel('PC1 (73%)')\n",
    "plt.ylabel('PC2 (23%)')\n",
    "plt.title('PCA of IRIS dataset')\n",
    "\n",
    "plt.show()"
   ]
  },
  {
   "cell_type": "markdown",
   "metadata": {},
   "source": [
    "## Top Trumps\n",
    "`HarryPotterTT.csv` contains data on Top Trumps cards.  \n",
    "This is an insightful example of clustering because some of the clusters are meaningful and some are not.   "
   ]
  },
  {
   "cell_type": "code",
   "execution_count": null,
   "metadata": {},
   "outputs": [],
   "source": [
    "import pandas as pd\n",
    "from sklearn.preprocessing import StandardScaler\n",
    "TT_df = pd.read_csv('HarryPotterTT.csv')\n",
    "TT_df_dash = TT_df.copy()\n",
    "TT_df.head()"
   ]
  },
  {
   "cell_type": "code",
   "execution_count": null,
   "metadata": {},
   "outputs": [],
   "source": [
    "y = TT_df.pop('Name').values\n",
    "X = TT_df.values\n",
    "X_scal = StandardScaler().fit_transform(X)\n",
    "X.shape"
   ]
  },
  {
   "cell_type": "code",
   "execution_count": null,
   "metadata": {},
   "outputs": [],
   "source": [
    "pcaHP = PCA(n_components=4)\n",
    "X_r = pcaHP.fit(X_scal).transform(X)\n",
    "pcaHP.explained_variance_ratio_"
   ]
  },
  {
   "cell_type": "code",
   "execution_count": null,
   "metadata": {},
   "outputs": [],
   "source": [
    "pcaHP.components_"
   ]
  },
  {
   "cell_type": "code",
   "execution_count": null,
   "metadata": {},
   "outputs": [],
   "source": [
    "df = pd.DataFrame(pcaHP.explained_variance_ratio_, \n",
    "                  index=['PC1','PC2','PC3','PC4'],columns =['var'])\n",
    "\n",
    "pl = df.plot.bar(color='red',figsize=(5,4))\n",
    "pl.set_ylabel(\"Variance Explained\")\n",
    "pl.set_ylim([0,0.8])"
   ]
  },
  {
   "cell_type": "code",
   "execution_count": null,
   "metadata": {},
   "outputs": [],
   "source": [
    "plt.figure(figsize=(8,6))\n",
    "lw = 2\n",
    "labels = list(range(len (y)))\n",
    "labels[0]='Harry'\n",
    "labels[1]='Hermione'\n",
    "labels[3]='Prof D'\n",
    "labels[5]='Prof McG'\n",
    "labels[6]='Prof Moody'\n",
    "labels[18]='Cedric D'\n",
    "labels[19]='Viktor K'\n",
    "labels[21]='Lucius Malfoy'\n",
    "labels[4]='Snape'\n",
    "labels[12]='Draco Malfoy'\n",
    "\n",
    "plt.scatter(X_r[:, 0], X_r[:, 1])\n",
    "\n",
    "for label, xi, yi in zip(labels, X_r[:, 0], X_r[:, 1]):\n",
    "    plt.annotate(\n",
    "        label,\n",
    "        xy=(xi, yi), xytext=(-3, 3),\n",
    "        textcoords='offset points', ha='right', va='bottom')\n",
    "\n",
    "plt.xlabel('PC1 (49%)')\n",
    "plt.ylabel('PC2 (32%)')\n",
    "plt.title('PCA of HP dataset')\n",
    "\n",
    "plt.show()"
   ]
  },
  {
   "cell_type": "code",
   "execution_count": null,
   "metadata": {},
   "outputs": [],
   "source": [
    "TT_df_dash"
   ]
  },
  {
   "cell_type": "code",
   "execution_count": null,
   "metadata": {},
   "outputs": [],
   "source": []
  }
 ],
 "metadata": {
  "kernelspec": {
   "display_name": "Python 3",
   "language": "python",
   "name": "python3"
  },
  "language_info": {
   "codemirror_mode": {
    "name": "ipython",
    "version": 3
   },
   "file_extension": ".py",
   "mimetype": "text/x-python",
   "name": "python",
   "nbconvert_exporter": "python",
   "pygments_lexer": "ipython3",
   "version": "3.7.3"
  }
 },
 "nbformat": 4,
 "nbformat_minor": 2
}
