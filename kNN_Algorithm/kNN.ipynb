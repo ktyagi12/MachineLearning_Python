{
 "cells": [
  {
   "cell_type": "markdown",
   "metadata": {},
   "source": [
    "# *k* Nearest Neighbour"
   ]
  },
  {
   "cell_type": "markdown",
   "metadata": {},
   "source": [
    "### Use `NearestNeighbors` to identify neighbours.  \n",
    "Athlete Selection Data  \n",
    "First load dataset into a data frame."
   ]
  },
  {
   "cell_type": "code",
   "execution_count": 1,
   "metadata": {},
   "outputs": [
    {
     "data": {
      "text/html": [
       "<div>\n",
       "<style scoped>\n",
       "    .dataframe tbody tr th:only-of-type {\n",
       "        vertical-align: middle;\n",
       "    }\n",
       "\n",
       "    .dataframe tbody tr th {\n",
       "        vertical-align: top;\n",
       "    }\n",
       "\n",
       "    .dataframe thead th {\n",
       "        text-align: right;\n",
       "    }\n",
       "</style>\n",
       "<table border=\"1\" class=\"dataframe\">\n",
       "  <thead>\n",
       "    <tr style=\"text-align: right;\">\n",
       "      <th></th>\n",
       "      <th>Speed</th>\n",
       "      <th>Agility</th>\n",
       "      <th>Selected</th>\n",
       "    </tr>\n",
       "    <tr>\n",
       "      <th>Athlete</th>\n",
       "      <th></th>\n",
       "      <th></th>\n",
       "      <th></th>\n",
       "    </tr>\n",
       "  </thead>\n",
       "  <tbody>\n",
       "    <tr>\n",
       "      <td>x1</td>\n",
       "      <td>2.50</td>\n",
       "      <td>6.00</td>\n",
       "      <td>0</td>\n",
       "    </tr>\n",
       "    <tr>\n",
       "      <td>x2</td>\n",
       "      <td>3.75</td>\n",
       "      <td>8.00</td>\n",
       "      <td>0</td>\n",
       "    </tr>\n",
       "    <tr>\n",
       "      <td>x3</td>\n",
       "      <td>2.25</td>\n",
       "      <td>5.50</td>\n",
       "      <td>0</td>\n",
       "    </tr>\n",
       "    <tr>\n",
       "      <td>x4</td>\n",
       "      <td>3.25</td>\n",
       "      <td>8.25</td>\n",
       "      <td>0</td>\n",
       "    </tr>\n",
       "    <tr>\n",
       "      <td>x5</td>\n",
       "      <td>2.75</td>\n",
       "      <td>7.50</td>\n",
       "      <td>0</td>\n",
       "    </tr>\n",
       "  </tbody>\n",
       "</table>\n",
       "</div>"
      ],
      "text/plain": [
       "         Speed  Agility  Selected\n",
       "Athlete                          \n",
       "x1        2.50     6.00         0\n",
       "x2        3.75     8.00         0\n",
       "x3        2.25     5.50         0\n",
       "x4        3.25     8.25         0\n",
       "x5        2.75     7.50         0"
      ]
     },
     "execution_count": 1,
     "metadata": {},
     "output_type": "execute_result"
    }
   ],
   "source": [
    "import pandas as pd\n",
    "import numpy as np\n",
    "from sklearn import preprocessing\n",
    "\n",
    "from sklearn.neighbors import NearestNeighbors\n",
    "from sklearn.neighbors import KNeighborsClassifier\n",
    "athlete = pd.read_csv('AthleteSelection.csv',index_col = 'Athlete')\n",
    "athlete.head()"
   ]
  },
  {
   "cell_type": "code",
   "execution_count": 2,
   "metadata": {},
   "outputs": [
    {
     "data": {
      "text/plain": [
       "Index(['x1', 'x2', 'x3', 'x4', 'x5', 'x6', 'x7', 'x8', 'x9', 'x10', 'x11',\n",
       "       'x12', 'x13', 'x14', 'x15', 'x16', 'x17', 'x18', 'x19', 'x20'],\n",
       "      dtype='object', name='Athlete')"
      ]
     },
     "execution_count": 2,
     "metadata": {},
     "output_type": "execute_result"
    }
   ],
   "source": [
    "names = athlete.index\n",
    "names"
   ]
  },
  {
   "cell_type": "code",
   "execution_count": 3,
   "metadata": {},
   "outputs": [
    {
     "data": {
      "text/plain": [
       "array([2.5, 6. ])"
      ]
     },
     "execution_count": 3,
     "metadata": {},
     "output_type": "execute_result"
    }
   ],
   "source": [
    "# Store features and labels in numpy arrays X and y\n",
    "y = athlete.pop('Selected').values\n",
    "X = athlete.values\n",
    "X[0]"
   ]
  },
  {
   "cell_type": "code",
   "execution_count": 4,
   "metadata": {},
   "outputs": [
    {
     "data": {
      "text/html": [
       "<div>\n",
       "<style scoped>\n",
       "    .dataframe tbody tr th:only-of-type {\n",
       "        vertical-align: middle;\n",
       "    }\n",
       "\n",
       "    .dataframe tbody tr th {\n",
       "        vertical-align: top;\n",
       "    }\n",
       "\n",
       "    .dataframe thead th {\n",
       "        text-align: right;\n",
       "    }\n",
       "</style>\n",
       "<table border=\"1\" class=\"dataframe\">\n",
       "  <thead>\n",
       "    <tr style=\"text-align: right;\">\n",
       "      <th></th>\n",
       "      <th>Speed</th>\n",
       "      <th>Agility</th>\n",
       "    </tr>\n",
       "    <tr>\n",
       "      <th>Athlete</th>\n",
       "      <th></th>\n",
       "      <th></th>\n",
       "    </tr>\n",
       "  </thead>\n",
       "  <tbody>\n",
       "    <tr>\n",
       "      <td>x1</td>\n",
       "      <td>2.50</td>\n",
       "      <td>6.00</td>\n",
       "    </tr>\n",
       "    <tr>\n",
       "      <td>x2</td>\n",
       "      <td>3.75</td>\n",
       "      <td>8.00</td>\n",
       "    </tr>\n",
       "    <tr>\n",
       "      <td>x3</td>\n",
       "      <td>2.25</td>\n",
       "      <td>5.50</td>\n",
       "    </tr>\n",
       "    <tr>\n",
       "      <td>x4</td>\n",
       "      <td>3.25</td>\n",
       "      <td>8.25</td>\n",
       "    </tr>\n",
       "    <tr>\n",
       "      <td>x5</td>\n",
       "      <td>2.75</td>\n",
       "      <td>7.50</td>\n",
       "    </tr>\n",
       "    <tr>\n",
       "      <td>x6</td>\n",
       "      <td>4.50</td>\n",
       "      <td>5.00</td>\n",
       "    </tr>\n",
       "    <tr>\n",
       "      <td>x7</td>\n",
       "      <td>3.50</td>\n",
       "      <td>5.25</td>\n",
       "    </tr>\n",
       "    <tr>\n",
       "      <td>x8</td>\n",
       "      <td>3.00</td>\n",
       "      <td>3.25</td>\n",
       "    </tr>\n",
       "    <tr>\n",
       "      <td>x9</td>\n",
       "      <td>4.00</td>\n",
       "      <td>4.00</td>\n",
       "    </tr>\n",
       "    <tr>\n",
       "      <td>x10</td>\n",
       "      <td>4.25</td>\n",
       "      <td>3.75</td>\n",
       "    </tr>\n",
       "    <tr>\n",
       "      <td>x11</td>\n",
       "      <td>2.00</td>\n",
       "      <td>2.00</td>\n",
       "    </tr>\n",
       "    <tr>\n",
       "      <td>x12</td>\n",
       "      <td>5.00</td>\n",
       "      <td>2.50</td>\n",
       "    </tr>\n",
       "    <tr>\n",
       "      <td>x13</td>\n",
       "      <td>8.25</td>\n",
       "      <td>8.50</td>\n",
       "    </tr>\n",
       "    <tr>\n",
       "      <td>x14</td>\n",
       "      <td>5.75</td>\n",
       "      <td>8.75</td>\n",
       "    </tr>\n",
       "    <tr>\n",
       "      <td>x15</td>\n",
       "      <td>4.75</td>\n",
       "      <td>6.25</td>\n",
       "    </tr>\n",
       "    <tr>\n",
       "      <td>x16</td>\n",
       "      <td>5.50</td>\n",
       "      <td>6.75</td>\n",
       "    </tr>\n",
       "    <tr>\n",
       "      <td>x17</td>\n",
       "      <td>5.25</td>\n",
       "      <td>9.50</td>\n",
       "    </tr>\n",
       "    <tr>\n",
       "      <td>x18</td>\n",
       "      <td>7.00</td>\n",
       "      <td>4.25</td>\n",
       "    </tr>\n",
       "    <tr>\n",
       "      <td>x19</td>\n",
       "      <td>7.50</td>\n",
       "      <td>8.00</td>\n",
       "    </tr>\n",
       "    <tr>\n",
       "      <td>x20</td>\n",
       "      <td>7.25</td>\n",
       "      <td>3.75</td>\n",
       "    </tr>\n",
       "  </tbody>\n",
       "</table>\n",
       "</div>"
      ],
      "text/plain": [
       "         Speed  Agility\n",
       "Athlete                \n",
       "x1        2.50     6.00\n",
       "x2        3.75     8.00\n",
       "x3        2.25     5.50\n",
       "x4        3.25     8.25\n",
       "x5        2.75     7.50\n",
       "x6        4.50     5.00\n",
       "x7        3.50     5.25\n",
       "x8        3.00     3.25\n",
       "x9        4.00     4.00\n",
       "x10       4.25     3.75\n",
       "x11       2.00     2.00\n",
       "x12       5.00     2.50\n",
       "x13       8.25     8.50\n",
       "x14       5.75     8.75\n",
       "x15       4.75     6.25\n",
       "x16       5.50     6.75\n",
       "x17       5.25     9.50\n",
       "x18       7.00     4.25\n",
       "x19       7.50     8.00\n",
       "x20       7.25     3.75"
      ]
     },
     "execution_count": 4,
     "metadata": {},
     "output_type": "execute_result"
    }
   ],
   "source": [
    "athlete"
   ]
  },
  {
   "cell_type": "code",
   "execution_count": 5,
   "metadata": {},
   "outputs": [
    {
     "data": {
      "text/plain": [
       "NearestNeighbors(algorithm='auto', leaf_size=30, metric='minkowski',\n",
       "                 metric_params=None, n_jobs=None, n_neighbors=2, p=2,\n",
       "                 radius=0.4)"
      ]
     },
     "execution_count": 5,
     "metadata": {},
     "output_type": "execute_result"
    }
   ],
   "source": [
    "athlete_neigh = NearestNeighbors(2, 0.4)\n",
    "athlete_neigh.fit(athlete) "
   ]
  },
  {
   "cell_type": "code",
   "execution_count": 6,
   "metadata": {},
   "outputs": [
    {
     "data": {
      "text/plain": [
       "(array([[0.        , 0.55901699]]), array([[3, 1]], dtype=int64))"
      ]
     },
     "execution_count": 6,
     "metadata": {},
     "output_type": "execute_result"
    }
   ],
   "source": [
    "# Find x nearest neighbour for X4\n",
    "x4 = [3.25,8.25]\n",
    "athlete_neigh.kneighbors([x4], 2, return_distance=True)"
   ]
  },
  {
   "cell_type": "code",
   "execution_count": 7,
   "metadata": {},
   "outputs": [
    {
     "name": "stdout",
     "output_type": "stream",
     "text": [
      "x16\n",
      "x15\n",
      "x2\n"
     ]
    }
   ],
   "source": [
    "# Find three nearest neighbours for q\n",
    "q = [5.0,7.5]\n",
    "q3n = athlete_neigh.kneighbors([q], 3)[1][0]\n",
    "# q3n contains the 'index' of the nearest neighbours\n",
    "for n in q3n:\n",
    "    print(names[n])"
   ]
  },
  {
   "cell_type": "markdown",
   "metadata": {},
   "source": [
    "### Plot this dataset"
   ]
  },
  {
   "cell_type": "code",
   "execution_count": 9,
   "metadata": {},
   "outputs": [
    {
     "data": {
      "image/png": "[encoded data removed]",
      "text/plain": [
       "<Figure size 576x360 with 1 Axes>"
      ]
     },
     "metadata": {
      "needs_background": "light"
     },
     "output_type": "display_data"
    }
   ],
   "source": [
    "import matplotlib.pyplot as plt\n",
    "import matplotlib.patches as mpatches\n",
    "color= ['red' if l == 0 else 'green' for l in y]\n",
    "x1 = X[:,0]\n",
    "x2 = X[:,1]\n",
    "plt.figure(figsize=(8,5))\n",
    "plt.scatter(x1,x2, color=color)\n",
    "plt.scatter(q[0],q[1],color='black')\n",
    "plt.annotate('q',(q[0]+0.05,q[1]))\n",
    "plt.title(\"Athlete Selection\")\n",
    "plt.xlabel(\"Speed\")\n",
    "plt.ylabel(\"Agility\")\n",
    "plt.grid()\n",
    "red_patch = mpatches.Patch(color='red', label='Not Selected')\n",
    "blue_patch = mpatches.Patch(color='green', label='Selected')\n",
    "plt.legend(handles=[red_patch, blue_patch],loc=4)\n",
    "for i, txt in enumerate(names):\n",
    "    plt.annotate(txt, (x1[i]+0.05, x2[i]))"
   ]
  },
  {
   "cell_type": "markdown",
   "metadata": {},
   "source": [
    "## Data Normalization\n",
    "Features may be measured on very different scales.  \n",
    "(Not really an issue here.)  \n",
    "Rescale the data so that all features have the same scale, two options:\n",
    "- N(0,1) rescale with zero mean and unit variance\n",
    "- MinMax scaling - typically in the range (0,1)\n",
    "\n",
    "### N(0,1)"
   ]
  },
  {
   "cell_type": "code",
   "execution_count": 10,
   "metadata": {},
   "outputs": [
    {
     "data": {
      "text/plain": [
       "array([[0.22330171, 0.75770254]])"
      ]
     },
     "execution_count": 10,
     "metadata": {},
     "output_type": "execute_result"
    }
   ],
   "source": [
    "scaler = preprocessing.StandardScaler().fit(X)\n",
    "X_scaled = scaler.transform(X)\n",
    "q_scaled = scaler.transform([q])\n",
    "q_scaled"
   ]
  },
  {
   "cell_type": "code",
   "execution_count": 11,
   "metadata": {},
   "outputs": [
    {
     "data": {
      "image/png": "[encoded data removed]",
      "text/plain": [
       "<Figure size 576x360 with 1 Axes>"
      ]
     },
     "metadata": {
      "needs_background": "light"
     },
     "output_type": "display_data"
    }
   ],
   "source": [
    "import matplotlib.pyplot as plt\n",
    "import matplotlib.patches as mpatches\n",
    "color= ['red' if l == 0 else 'green' for l in y]\n",
    "x1 = X_scaled[:,0]\n",
    "x2 = X_scaled[:,1]\n",
    "plt.figure(figsize=(8,5))\n",
    "plt.scatter(x1,x2, color=color)\n",
    "plt.scatter(q_scaled[0,0],q_scaled[0,1],color='black')\n",
    "plt.annotate('q',(q_scaled[0,0]+0.05,q_scaled[0,1]))\n",
    "plt.title(\"Athlete Selection (Normalized)\")\n",
    "plt.xlabel(\"Speed N(0,1)\")\n",
    "plt.ylabel(\"Agility N(0,1)\")\n",
    "plt.grid()\n",
    "red_patch = mpatches.Patch(color='red', label='Not Selected')\n",
    "blue_patch = mpatches.Patch(color='green', label='Selected')\n",
    "plt.legend(handles=[red_patch, blue_patch],loc=4)\n",
    "for i, txt in enumerate(names):\n",
    "    plt.annotate(txt, (x1[i]+0.05, x2[i]))"
   ]
  },
  {
   "cell_type": "markdown",
   "metadata": {},
   "source": [
    "## *k*-NN Classifier\n",
    "### Forecast data"
   ]
  },
  {
   "cell_type": "code",
   "execution_count": 12,
   "metadata": {
    "scrolled": true
   },
   "outputs": [
    {
     "data": {
      "text/html": [
       "<div>\n",
       "<style scoped>\n",
       "    .dataframe tbody tr th:only-of-type {\n",
       "        vertical-align: middle;\n",
       "    }\n",
       "\n",
       "    .dataframe tbody tr th {\n",
       "        vertical-align: top;\n",
       "    }\n",
       "\n",
       "    .dataframe thead th {\n",
       "        text-align: right;\n",
       "    }\n",
       "</style>\n",
       "<table border=\"1\" class=\"dataframe\">\n",
       "  <thead>\n",
       "    <tr style=\"text-align: right;\">\n",
       "      <th></th>\n",
       "      <th>Temperature</th>\n",
       "      <th>Humidity</th>\n",
       "      <th>Wind_Speed</th>\n",
       "      <th>Go-Out</th>\n",
       "    </tr>\n",
       "  </thead>\n",
       "  <tbody>\n",
       "    <tr>\n",
       "      <td>0</td>\n",
       "      <td>6</td>\n",
       "      <td>85</td>\n",
       "      <td>30</td>\n",
       "      <td>0</td>\n",
       "    </tr>\n",
       "    <tr>\n",
       "      <td>1</td>\n",
       "      <td>14</td>\n",
       "      <td>90</td>\n",
       "      <td>35</td>\n",
       "      <td>0</td>\n",
       "    </tr>\n",
       "    <tr>\n",
       "      <td>2</td>\n",
       "      <td>15</td>\n",
       "      <td>86</td>\n",
       "      <td>8</td>\n",
       "      <td>1</td>\n",
       "    </tr>\n",
       "    <tr>\n",
       "      <td>3</td>\n",
       "      <td>21</td>\n",
       "      <td>56</td>\n",
       "      <td>15</td>\n",
       "      <td>1</td>\n",
       "    </tr>\n",
       "    <tr>\n",
       "      <td>4</td>\n",
       "      <td>17</td>\n",
       "      <td>67</td>\n",
       "      <td>9</td>\n",
       "      <td>1</td>\n",
       "    </tr>\n",
       "  </tbody>\n",
       "</table>\n",
       "</div>"
      ],
      "text/plain": [
       "   Temperature  Humidity  Wind_Speed  Go-Out\n",
       "0            6        85          30       0\n",
       "1           14        90          35       0\n",
       "2           15        86           8       1\n",
       "3           21        56          15       1\n",
       "4           17        67           9       1"
      ]
     },
     "execution_count": 12,
     "metadata": {},
     "output_type": "execute_result"
    }
   ],
   "source": [
    "import pandas as pd\n",
    "import numpy as np\n",
    "from sklearn.neighbors import KNeighborsClassifier\n",
    "from sklearn.metrics import confusion_matrix \n",
    "from sklearn import preprocessing\n",
    "\n",
    "train = pd.read_csv('Forecast.csv')\n",
    "train.head(5)"
   ]
  },
  {
   "cell_type": "code",
   "execution_count": 13,
   "metadata": {},
   "outputs": [
    {
     "data": {
      "text/plain": [
       "(18, 4)"
      ]
     },
     "execution_count": 13,
     "metadata": {},
     "output_type": "execute_result"
    }
   ],
   "source": [
    "train.shape"
   ]
  },
  {
   "cell_type": "code",
   "execution_count": 14,
   "metadata": {},
   "outputs": [],
   "source": [
    "y = train.pop('Go-Out').values # y is a numpy array with the class labels"
   ]
  },
  {
   "cell_type": "code",
   "execution_count": 15,
   "metadata": {},
   "outputs": [],
   "source": [
    "X = train.values.astype(float)  # X is a numpy array with the training data converted to floats"
   ]
  },
  {
   "cell_type": "code",
   "execution_count": 16,
   "metadata": {},
   "outputs": [
    {
     "data": {
      "text/plain": [
       "array([[ 6., 85., 30.],\n",
       "       [14., 90., 35.],\n",
       "       [15., 86.,  8.],\n",
       "       [21., 56., 15.],\n",
       "       [17., 67.,  9.],\n",
       "       [ 9., 70., 16.],\n",
       "       [13., 34., 11.],\n",
       "       [17., 95., 32.],\n",
       "       [14., 70., 11.],\n",
       "       [17., 80., 28.],\n",
       "       [15., 70.,  6.],\n",
       "       [16., 90.,  7.],\n",
       "       [22., 75., 19.],\n",
       "       [16., 91., 28.],\n",
       "       [14., 42.,  8.],\n",
       "       [ 7., 95., 21.],\n",
       "       [12., 15., 28.],\n",
       "       [14., 70., 21.]])"
      ]
     },
     "execution_count": 16,
     "metadata": {},
     "output_type": "execute_result"
    }
   ],
   "source": [
    "X"
   ]
  },
  {
   "cell_type": "code",
   "execution_count": 17,
   "metadata": {},
   "outputs": [
    {
     "data": {
      "text/plain": [
       "(18, 3)"
      ]
     },
     "execution_count": 17,
     "metadata": {},
     "output_type": "execute_result"
    }
   ],
   "source": [
    "X.shape"
   ]
  },
  {
   "cell_type": "code",
   "execution_count": 18,
   "metadata": {},
   "outputs": [
    {
     "data": {
      "text/plain": [
       "KNeighborsClassifier(algorithm='auto', leaf_size=30, metric='minkowski',\n",
       "                     metric_params=None, n_jobs=None, n_neighbors=3, p=2,\n",
       "                     weights='uniform')"
      ]
     },
     "execution_count": 18,
     "metadata": {},
     "output_type": "execute_result"
    }
   ],
   "source": [
    "# Default k-NN metric is Minkowski with p = 2, i.e. Euclidean\n",
    "forecast_kNN = KNeighborsClassifier(n_neighbors=3) \n",
    "forecast_kNN.fit(X,y)"
   ]
  },
  {
   "cell_type": "code",
   "execution_count": 19,
   "metadata": {},
   "outputs": [
    {
     "data": {
      "text/plain": [
       "array([1, 0], dtype=int64)"
      ]
     },
     "execution_count": 19,
     "metadata": {},
     "output_type": "execute_result"
    }
   ],
   "source": [
    "# Generate predictions (forecasts) for 2 query examples\n",
    "xinput = np.array([[8.,70.,11.],\n",
    "                   [8,69,15]])\n",
    "forecast_kNN.predict(xinput)"
   ]
  },
  {
   "cell_type": "code",
   "execution_count": 20,
   "metadata": {
    "scrolled": true
   },
   "outputs": [
    {
     "data": {
      "text/plain": [
       "(array([[1.73205081, 7.28010989, 8.54400375]]),\n",
       " array([[ 5,  8, 17]], dtype=int64))"
      ]
     },
     "execution_count": 20,
     "metadata": {},
     "output_type": "execute_result"
    }
   ],
   "source": [
    "# Explicitly find the neighbours (and distances) for a query\n",
    "q = [8,69,15]\n",
    "forecast_kNN.kneighbors([q])"
   ]
  },
  {
   "cell_type": "code",
   "execution_count": 21,
   "metadata": {},
   "outputs": [
    {
     "name": "stdout",
     "output_type": "stream",
     "text": [
      "     y: [0 0 1 1 1 0 1 0 1 1 1 1 1 0 1 0 0 0]\n",
      "y_dash: [0 0 1 1 1 0 1 0 1 1 1 1 1 0 1 0 1 0]\n"
     ]
    }
   ],
   "source": [
    "y_dash = forecast_kNN.predict(X) # Use training data as test\n",
    "print('     y:',y)\n",
    "print('y_dash:',y_dash)"
   ]
  },
  {
   "cell_type": "code",
   "execution_count": 22,
   "metadata": {
    "scrolled": true
   },
   "outputs": [
    {
     "name": "stdout",
     "output_type": "stream",
     "text": [
      "Confusion matrix:\n",
      "[[ 7  1]\n",
      " [ 0 10]]\n"
     ]
    }
   ],
   "source": [
    "confusion = confusion_matrix(y, y_dash)\n",
    "print(\"Confusion matrix:\\n{}\".format(confusion)) "
   ]
  },
  {
   "cell_type": "markdown",
   "metadata": {},
   "source": [
    "What would we expect to happen when k=1? (Try it.)"
   ]
  },
  {
   "cell_type": "markdown",
   "metadata": {},
   "source": [
    "### Normalise data\n",
    "The default for `preprocessing.scale` is to convert features to N(0,1)"
   ]
  },
  {
   "cell_type": "code",
   "execution_count": 23,
   "metadata": {},
   "outputs": [
    {
     "name": "stdout",
     "output_type": "stream",
     "text": [
      "Confusion matrix:\n",
      "[[6 2]\n",
      " [1 9]]\n",
      "\n",
      "     y: [0 0 1 1 1 0 1 0 1 1 1 1 1 0 1 0 0 0]\n",
      "y_dash: [0 0 1 1 1 0 1 0 1 0 1 1 1 0 1 0 1 1]\n"
     ]
    }
   ],
   "source": [
    "X_scaled = preprocessing.scale(X)\n",
    "forecast_kNN_S = KNeighborsClassifier(n_neighbors=3)\n",
    "forecast_kNN_S.fit(X_scaled,y)\n",
    "y_dash = forecast_kNN_S.predict(X_scaled)\n",
    "confusion = confusion_matrix(y, y_dash)\n",
    "print(\"Confusion matrix:\\n{}\".format(confusion)) \n",
    "print('\\n     y:',y)\n",
    "print('y_dash:',y_dash)"
   ]
  },
  {
   "cell_type": "markdown",
   "metadata": {},
   "source": [
    "In this case scaling is actually making things worse."
   ]
  },
  {
   "cell_type": "code",
   "execution_count": 24,
   "metadata": {},
   "outputs": [
    {
     "data": {
      "text/plain": [
       "array([[-2.08897768,  0.64102699,  1.21956865],\n",
       "       [-0.09684002,  0.87272349,  1.7498159 ],\n",
       "       [ 0.15217718,  0.68736629, -1.11351921],\n",
       "       [ 1.64628042, -0.70281272, -0.37117307],\n",
       "       [ 0.6502116 , -0.19308042, -1.00746976]])"
      ]
     },
     "execution_count": 24,
     "metadata": {},
     "output_type": "execute_result"
    }
   ],
   "source": [
    "X_scaled[:5] # First five rows of the scaled data."
   ]
  },
  {
   "cell_type": "code",
   "execution_count": 25,
   "metadata": {},
   "outputs": [
    {
     "data": {
      "text/plain": [
       "(array([[69.62706959, 69.87454474, 69.91814329]]),\n",
       " array([[ 7,  1, 13]], dtype=int64))"
      ]
     },
     "execution_count": 25,
     "metadata": {},
     "output_type": "execute_result"
    }
   ],
   "source": [
    "forecast_kNN_S.kneighbors([q])\n",
    "# What is wrong with this? \n",
    "# We haven't scaled the query."
   ]
  },
  {
   "cell_type": "code",
   "execution_count": 26,
   "metadata": {},
   "outputs": [
    {
     "data": {
      "text/plain": [
       "array([-1.59094327, -0.10040182, -0.37117307])"
      ]
     },
     "execution_count": 26,
     "metadata": {},
     "output_type": "execute_result"
    }
   ],
   "source": [
    "# We need a 'handle' on the scaler so that we can reapply it to the query\n",
    "scaler = preprocessing.StandardScaler().fit(X) #A scaler object\n",
    "X_scaled = scaler.transform(X)\n",
    "q_scaled = scaler.transform([q])\n",
    "q_scaled[0]"
   ]
  },
  {
   "cell_type": "code",
   "execution_count": 27,
   "metadata": {},
   "outputs": [
    {
     "data": {
      "text/plain": [
       "(array([[0.27459677, 1.38509156, 1.55384542]]),\n",
       " array([[ 5, 15,  8]], dtype=int64))"
      ]
     },
     "execution_count": 27,
     "metadata": {},
     "output_type": "execute_result"
    }
   ],
   "source": [
    "forecast_kNN_S.fit(X_scaled,y)\n",
    "forecast_kNN_S.kneighbors(q_scaled)"
   ]
  },
  {
   "cell_type": "markdown",
   "metadata": {},
   "source": [
    "### MinMax Scaling - range (0,1)"
   ]
  },
  {
   "cell_type": "code",
   "execution_count": 28,
   "metadata": {},
   "outputs": [
    {
     "data": {
      "text/plain": [
       "array([[0.        , 0.875     , 0.82758621],\n",
       "       [0.5       , 0.9375    , 1.        ],\n",
       "       [0.5625    , 0.8875    , 0.06896552],\n",
       "       [0.9375    , 0.5125    , 0.31034483],\n",
       "       [0.6875    , 0.65      , 0.10344828],\n",
       "       [0.1875    , 0.6875    , 0.34482759],\n",
       "       [0.4375    , 0.2375    , 0.17241379],\n",
       "       [0.6875    , 1.        , 0.89655172],\n",
       "       [0.5       , 0.6875    , 0.17241379],\n",
       "       [0.6875    , 0.8125    , 0.75862069],\n",
       "       [0.5625    , 0.6875    , 0.        ],\n",
       "       [0.625     , 0.9375    , 0.03448276],\n",
       "       [1.        , 0.75      , 0.44827586],\n",
       "       [0.625     , 0.95      , 0.75862069],\n",
       "       [0.5       , 0.3375    , 0.06896552],\n",
       "       [0.0625    , 1.        , 0.51724138],\n",
       "       [0.375     , 0.        , 0.75862069],\n",
       "       [0.5       , 0.6875    , 0.51724138]])"
      ]
     },
     "execution_count": 28,
     "metadata": {},
     "output_type": "execute_result"
    }
   ],
   "source": [
    "min_max_scaler = preprocessing.MinMaxScaler(feature_range=(0, 1))\n",
    "X_scaled01 = min_max_scaler.fit_transform(X)\n",
    "X_scaled01"
   ]
  },
  {
   "cell_type": "markdown",
   "metadata": {},
   "source": [
    "## Instance weighting\n",
    "Why should all neighbours have the same impact on the classification?  \n",
    "Give nearer neighbours a larger vote."
   ]
  },
  {
   "cell_type": "code",
   "execution_count": 29,
   "metadata": {},
   "outputs": [
    {
     "name": "stdout",
     "output_type": "stream",
     "text": [
      "Confusion matrix:\n",
      "[[ 8  0]\n",
      " [ 0 10]]\n",
      "\n",
      "     y: [0 0 1 1 1 0 1 0 1 1 1 1 1 0 1 0 0 0]\n",
      "y_dash: [0 0 1 1 1 0 1 0 1 1 1 1 1 0 1 0 0 0]\n"
     ]
    }
   ],
   "source": [
    "forecast_kNN_SW = KNeighborsClassifier(n_neighbors=3,weights='distance')\n",
    "forecast_kNN_SW.fit(X_scaled,y)\n",
    "y_dash = forecast_kNN_SW.predict(X_scaled)\n",
    "confusion = confusion_matrix(y, y_dash)\n",
    "print(\"Confusion matrix:\\n{}\".format(confusion)) \n",
    "print('\\n     y:',y)\n",
    "print('y_dash:',y_dash)"
   ]
  },
  {
   "cell_type": "markdown",
   "metadata": {},
   "source": [
    "No errors now as nearest neighbour (itself) gets the largest vote. "
   ]
  },
  {
   "cell_type": "code",
   "execution_count": null,
   "metadata": {},
   "outputs": [],
   "source": []
  }
 ],
 "metadata": {
  "kernelspec": {
   "display_name": "Python 3",
   "language": "python",
   "name": "python3"
  },
  "language_info": {
   "codemirror_mode": {
    "name": "ipython",
    "version": 3
   },
   "file_extension": ".py",
   "mimetype": "text/x-python",
   "name": "python",
   "nbconvert_exporter": "python",
   "pygments_lexer": "ipython3",
   "version": "3.7.3"
  }
 },
 "nbformat": 4,
 "nbformat_minor": 2
}
